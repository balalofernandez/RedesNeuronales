{
 "cells": [
  {
   "cell_type": "markdown",
   "id": "split-parish",
   "metadata": {},
   "source": [
    "# Aprendizaje básico de redes neuronales\n",
    "\n",
    "Este notebook es la primera sesión de notas sobre redes neuronales.\n"
   ]
  },
  {
   "cell_type": "code",
   "execution_count": null,
   "id": "pediatric-smooth",
   "metadata": {},
   "outputs": [],
   "source": [
    "afd\n",
    "gas"
   ]
  }
 ],
 "metadata": {
  "kernelspec": {
   "display_name": "Python 3",
   "language": "python",
   "name": "python3"
  },
  "language_info": {
   "codemirror_mode": {
    "name": "ipython",
    "version": 3
   },
   "file_extension": ".py",
   "mimetype": "text/x-python",
   "name": "python",
   "nbconvert_exporter": "python",
   "pygments_lexer": "ipython3",
   "version": "3.8.2"
  }
 },
 "nbformat": 4,
 "nbformat_minor": 5
}
